{
 "cells": [
  {
   "cell_type": "markdown",
   "metadata": {},
   "source": [
    "# Imports"
   ]
  },
  {
   "cell_type": "code",
   "execution_count": 1,
   "metadata": {},
   "outputs": [],
   "source": [
    "import torch\n",
    "import torch.nn as nn\n",
    "import torch.nn.functional as F\n",
    "import torch.optim as optim\n",
    "from torchvision import datasets, transforms\n",
    "\n",
    "import matplotlib.pyplot as plt\n",
    "plt.style.use('seaborn-darkgrid')\n",
    "import numpy as np\n",
    "import torchvision\n",
    "from tqdm import tqdm_notebook as tqdm\n",
    "\n",
    "# Path hack.\n",
    "import sys, os\n",
    "sys.path.insert(0, os.path.abspath('..'))\n",
    "\n",
    "from visualization.plots import plot_learning_curves, scrollable_loss_vs_hist, sorted_subset_weight_pairs\n",
    "\n",
    "from sklearn.metrics.pairwise import euclidean_distances, cosine_similarity\n",
    "import seaborn as sns\n",
    "\n",
    "from matplotlib.animation import FuncAnimation"
   ]
  },
  {
   "cell_type": "code",
   "execution_count": 2,
   "metadata": {},
   "outputs": [],
   "source": [
    "from pathlib import Path\n",
    "import re"
   ]
  },
  {
   "cell_type": "markdown",
   "metadata": {},
   "source": [
    "# Histograms"
   ]
  },
  {
   "cell_type": "code",
   "execution_count": 4,
   "metadata": {},
   "outputs": [],
   "source": [
    "%matplotlib qt"
   ]
  },
  {
   "cell_type": "code",
   "execution_count": 5,
   "metadata": {},
   "outputs": [],
   "source": [
    "parent_dir = '/home/manu/Projects/dev/weightSymmetry/logs/mnist/1 hidden layer/40 neurons/train_from_scratch/'\n",
    "run_num = 3\n",
    "# ylim = 200\n",
    "\n",
    "scrollable_loss_vs_hist(parent_dir, run_num, steps=20, net2net=False)"
   ]
  },
  {
   "cell_type": "code",
   "execution_count": 40,
   "metadata": {},
   "outputs": [],
   "source": [
    "parent_dir = '/home/manu/Projects/dev/weightSymmetry/logs/mnist/1 hidden layer/40 neurons/smart_init_noise_0.25/'\n",
    "run_num = 3\n",
    "# ylim = 200\n",
    "\n",
    "scrollable_loss_vs_hist(parent_dir, run_num, steps=20, net2net=True)"
   ]
  },
  {
   "cell_type": "code",
   "execution_count": 37,
   "metadata": {},
   "outputs": [],
   "source": [
    "parent_dir = '/home/manu/Projects/dev/weightSymmetry/logs/mnist/1 hidden layer/40 neurons/smart_init_ortho_reg_rotation_noise_0.17/'\n",
    "run_num = 3\n",
    "# ylim = 200\n",
    "\n",
    "scrollable_loss_vs_hist(parent_dir, run_num, steps=20, net2net=True)"
   ]
  },
  {
   "cell_type": "code",
   "execution_count": 37,
   "metadata": {},
   "outputs": [],
   "source": [
    "parent_dir = '/home/manu/Projects/dev/weightSymmetry/logs/mnist/2 hidden layers/30 neurons/train_from_scratch/'\n",
    "run_num = 1\n",
    "# ylim = 200\n",
    "\n",
    "scrollable_loss_vs_hist(parent_dir, run_num, steps=40)"
   ]
  },
  {
   "cell_type": "code",
   "execution_count": 13,
   "metadata": {},
   "outputs": [],
   "source": [
    "parent_dir = '/home/manu/Projects/dev/weightSymmetry/logs/mnist/2 hidden layers/500 neurons/train_from_scratch/'\n",
    "run_num = 2\n",
    "# ylim = 200\n",
    "\n",
    "scrollable_loss_vs_hist(parent_dir, run_num, steps=1)"
   ]
  },
  {
   "cell_type": "code",
   "execution_count": 91,
   "metadata": {},
   "outputs": [],
   "source": [
    "parent_dir = '/home/manu/Projects/dev/weightSymmetry/logs/mnist/1 hidden layer/40 neurons/train_from_scratch_net2net_at_start/'\n",
    "run_num = 1\n",
    "# ylim = 200\n",
    "\n",
    "scrollable_loss_vs_hist(parent_dir, run_num, steps=40)"
   ]
  },
  {
   "cell_type": "markdown",
   "metadata": {},
   "source": [
    "# Videos for presentation"
   ]
  },
  {
   "cell_type": "code",
   "execution_count": 7,
   "metadata": {},
   "outputs": [],
   "source": [
    "parent_dir = '/home/manu/Projects/dev/weightSymmetry/logs/mnist/1 hidden layer/40 neurons/train_from_scratch_net2net_at_start/'\n",
    "run_num = 1\n",
    "ylim = 500\n",
    "steps = 40\n",
    "net2net=False\n",
    "speed_factor = 10\n",
    "\n",
    "x = np.load(os.path.join(parent_dir, 'cos_dists_' + str(run_num) + '.npy'))\n",
    "    \n",
    "offset = 0\n",
    "if net2net:\n",
    "    offset = 40\n",
    "\n",
    "loss_curve = np.load(parent_dir + 'loss_curve_' + str(run_num) + '.npy')\n",
    "\n",
    "num_neurons = x.shape[1]\n",
    "iu2 = np.triu_indices(num_neurons, k=1)\n",
    "\n",
    "fig = plt.figure()\n",
    "ax1 = fig.add_subplot(211)\n",
    "ax1.plot(loss_curve)\n",
    "ax1.plot(1 + offset*46, loss_curve[1 + offset*46], marker='o')\n",
    "ax1.set_title('Learning curve')\n",
    "ax1.set_ylabel('Loss on Training Set')\n",
    "ax1.set_xlabel('Training Time')\n",
    "\n",
    "ax2 = fig.add_subplot(212)\n",
    "ax2.set_xlim([-1, 1])\n",
    "plots = x[0]\n",
    "ax2.hist(plots[iu2], bins=50, range=(-1,1))\n",
    "ax2.set_xlim([-1, 1])\n",
    "if ylim is not None:\n",
    "    ax2.set_ylim([0, ylim])\n",
    "ax2.set_title('Histogram of cosine similarities')\n",
    "ax2.set_xlabel('Cosine Similarity')\n",
    "\n",
    "plt.tight_layout()\n",
    "plt.show()\n",
    "\n",
    "def animate(frame):\n",
    "\n",
    "    curr_pos = steps*frame\n",
    "    fake_pos = curr_pos\n",
    "\n",
    "    ax1.cla()\n",
    "    ax1.plot(loss_curve)\n",
    "    ax1.plot(fake_pos + offset*46, loss_curve[fake_pos + offset*46], marker='o', label='time step ' + str(fake_pos))\n",
    "    ax1.legend()\n",
    "    ax1.set_title('Learning curve')\n",
    "    ax1.set_ylabel('Loss on Training Set')\n",
    "    ax1.set_xlabel('Training Time')\n",
    "\n",
    "    ax2.cla()\n",
    "    plots = x[curr_pos]\n",
    "    ax2.hist(plots[iu2], bins=50, range=(-1,1))\n",
    "    ax2.set_xlim([-1, 1])\n",
    "    if ylim is not None:\n",
    "        ax2.set_ylim([0, ylim])\n",
    "    ax2.set_title('Histogram of cosine similarities')\n",
    "    ax2.set_xlabel('Cosine Similarity')\n",
    "    return\n",
    "\n",
    "animation = FuncAnimation(\n",
    "    # Your Matplotlib Figure object\n",
    "    fig,\n",
    "    # The function that does the updating of the Figure\n",
    "    animate,\n",
    "    # Frame information (here just frame number)\n",
    "    np.arange(300),\n",
    "    # Frame-time in ms; i.e. for a given frame-rate x, 1000/x\n",
    "    interval=1000 / speed_factor,\n",
    "    repeat=False\n",
    ")"
   ]
  },
  {
   "cell_type": "code",
   "execution_count": null,
   "metadata": {
    "scrolled": false
   },
   "outputs": [],
   "source": [
    "animation.save('/home/manu/Presentations/WeightSymmetry/video_bottleneck.mp4')"
   ]
  },
  {
   "cell_type": "markdown",
   "metadata": {},
   "source": [
    " "
   ]
  },
  {
   "cell_type": "markdown",
   "metadata": {},
   "source": [
    " "
   ]
  },
  {
   "cell_type": "markdown",
   "metadata": {},
   "source": [
    " "
   ]
  },
  {
   "cell_type": "markdown",
   "metadata": {},
   "source": [
    " "
   ]
  },
  {
   "cell_type": "markdown",
   "metadata": {},
   "source": [
    "# Archived Experiments (Not very useful)"
   ]
  },
  {
   "cell_type": "markdown",
   "metadata": {},
   "source": [
    "# Mean vs Spread Visualization"
   ]
  },
  {
   "cell_type": "code",
   "execution_count": 3,
   "metadata": {},
   "outputs": [],
   "source": [
    "%matplotlib inline"
   ]
  },
  {
   "cell_type": "code",
   "execution_count": 4,
   "metadata": {},
   "outputs": [],
   "source": [
    "def reparametrize(weight_path):\n",
    "    w_t = torch.load(weight_path)\n",
    "#     w_t = w_t.dense_2.weight.data.cpu()\n",
    "    w_t = F.normalize(w_t.dense_2.weight.data.cpu(), p=2, dim=1)\n",
    "    \n",
    "    num_neurons = w_t.shape[0]\n",
    "    iu2 = np.triu_indices(num_neurons, k=1)\n",
    "    \n",
    "    u_t = w_t[iu2[0]] - w_t[iu2[1]]\n",
    "    mw_t = 0.5*(w_t[iu2[0]] + w_t[iu2[1]])\n",
    "    \n",
    "    return mw_t, u_t"
   ]
  },
  {
   "cell_type": "code",
   "execution_count": 5,
   "metadata": {},
   "outputs": [
    {
     "name": "stderr",
     "output_type": "stream",
     "text": [
      "/home/manu/Software/anaconda3/envs/pytorch/lib/python3.7/site-packages/torch/serialization.py:453: SourceChangeWarning: source code of class 'nets.simpleNet.FCNet' has changed. you can retrieve the original source code by accessing the object's source attribute or set `torch.nn.Module.dump_patches = True` and use the patch tool to revert the changes.\n",
      "  warnings.warn(msg, SourceChangeWarning)\n"
     ]
    }
   ],
   "source": [
    "parent_dir = '/home/manu/Projects/dev/weightSymmetry/logs/mnist/2 hidden layers/500 neurons - OG/train_from_scratch'\n",
    "run_num = 0\n",
    "\n",
    "weights_dir = os.path.join(parent_dir,'weight_history','run_0')\n",
    "\n",
    "delta_w = []\n",
    "delta_u = []\n",
    "delta_u_norm = []\n",
    "\n",
    "old_w_path = None\n",
    "\n",
    "for i in range(len(os.listdir(weights_dir))-1):\n",
    "    if old_w_path is None:\n",
    "        old_w_path = os.path.join(weights_dir, 'epoch_'+ str(i+1) + '.pt')\n",
    "        old_w, old_u = reparametrize(old_w_path)\n",
    "    \n",
    "    new_w_path = os.path.join(weights_dir, 'epoch_'+ str(i+2) + '.pt')\n",
    "    \n",
    "    new_w, new_u = reparametrize(new_w_path)\n",
    "    \n",
    "    delta_w.append(torch.norm(new_w-old_w, dim=1))\n",
    "    delta_u.append(torch.norm(new_u-old_u, dim=1))\n",
    "    delta_u_norm.append(torch.norm(new_u, dim=1)-torch.norm(old_u, dim=1))\n",
    "    \n",
    "    old_w_path = new_w_path\n",
    "    old_w = new_w.clone()\n",
    "    old_u = new_u.clone()\n",
    "\n",
    "mean_delta_w = torch.stack(delta_w).mean(dim=0)\n",
    "mean_delta_u = torch.stack(delta_u).mean(dim=0)\n",
    "mean_delta_u_norm = torch.stack(delta_u_norm).mean(dim=0)"
   ]
  },
  {
   "cell_type": "code",
   "execution_count": 6,
   "metadata": {},
   "outputs": [],
   "source": [
    "cos_dists = np.load(os.path.join(parent_dir, 'cos_dists_' + str(run_num) + '.npy'))\n",
    "num_neurons = cos_dists.shape[1]\n",
    "iu2 = np.triu_indices(num_neurons, k=1)\n",
    "\n",
    "x = cos_dists[0][iu2]"
   ]
  },
  {
   "cell_type": "markdown",
   "metadata": {},
   "source": [
    "### Unnormalized"
   ]
  },
  {
   "cell_type": "code",
   "execution_count": 7,
   "metadata": {},
   "outputs": [
    {
     "data": {
      "text/plain": [
       "<matplotlib.collections.PathCollection at 0x7fd753234588>"
      ]
     },
     "execution_count": 7,
     "metadata": {},
     "output_type": "execute_result"
    },
    {
     "data": {
      "image/png": "[encoded data removed]",
      "text/plain": [
       "<Figure size 432x288 with 1 Axes>"
      ]
     },
     "metadata": {
      "needs_background": "light"
     },
     "output_type": "display_data"
    }
   ],
   "source": [
    "plt.figure()\n",
    "plt.scatter(x,mean_delta_w)"
   ]
  },
  {
   "cell_type": "code",
   "execution_count": 8,
   "metadata": {},
   "outputs": [
    {
     "data": {
      "text/plain": [
       "<matplotlib.collections.PathCollection at 0x7fd7531d64e0>"
      ]
     },
     "execution_count": 8,
     "metadata": {},
     "output_type": "execute_result"
    },
    {
     "data": {
      "image/png": "[encoded data removed]",
      "text/plain": [
       "<Figure size 432x288 with 1 Axes>"
      ]
     },
     "metadata": {
      "needs_background": "light"
     },
     "output_type": "display_data"
    }
   ],
   "source": [
    "plt.figure()\n",
    "plt.scatter(x,mean_delta_u)"
   ]
  },
  {
   "cell_type": "code",
   "execution_count": 9,
   "metadata": {
    "scrolled": true
   },
   "outputs": [
    {
     "data": {
      "text/plain": [
       "<matplotlib.collections.PathCollection at 0x7fd75313cbe0>"
      ]
     },
     "execution_count": 9,
     "metadata": {},
     "output_type": "execute_result"
    },
    {
     "data": {
      "image/png": "[encoded data removed]",
      "text/plain": [
       "<Figure size 432x288 with 1 Axes>"
      ]
     },
     "metadata": {
      "needs_background": "light"
     },
     "output_type": "display_data"
    }
   ],
   "source": [
    "plt.figure()\n",
    "plt.scatter(x,np.abs(mean_delta_u_norm))"
   ]
  },
  {
   "cell_type": "markdown",
   "metadata": {},
   "source": [
    "### Normalized"
   ]
  },
  {
   "cell_type": "code",
   "execution_count": 10,
   "metadata": {},
   "outputs": [
    {
     "data": {
      "text/plain": [
       "<matplotlib.collections.PathCollection at 0x7fd75311e198>"
      ]
     },
     "execution_count": 10,
     "metadata": {},
     "output_type": "execute_result"
    },
    {
     "data": {
      "image/png": "[encoded data removed]",
      "text/plain": [
       "<Figure size 432x288 with 1 Axes>"
      ]
     },
     "metadata": {
      "needs_background": "light"
     },
     "output_type": "display_data"
    }
   ],
   "source": [
    "plt.figure()\n",
    "plt.scatter(x,mean_delta_w)"
   ]
  },
  {
   "cell_type": "code",
   "execution_count": 11,
   "metadata": {},
   "outputs": [
    {
     "data": {
      "text/plain": [
       "<matplotlib.collections.PathCollection at 0x7fd753075cf8>"
      ]
     },
     "execution_count": 11,
     "metadata": {},
     "output_type": "execute_result"
    },
    {
     "data": {
      "image/png": "[encoded data removed]",
      "text/plain": [
       "<Figure size 432x288 with 1 Axes>"
      ]
     },
     "metadata": {
      "needs_background": "light"
     },
     "output_type": "display_data"
    }
   ],
   "source": [
    "plt.figure()\n",
    "plt.scatter(x,mean_delta_u)"
   ]
  },
  {
   "cell_type": "code",
   "execution_count": 12,
   "metadata": {
    "scrolled": true
   },
   "outputs": [
    {
     "data": {
      "text/plain": [
       "<matplotlib.collections.PathCollection at 0x7fd75305a358>"
      ]
     },
     "execution_count": 12,
     "metadata": {},
     "output_type": "execute_result"
    },
    {
     "data": {
      "image/png": "[encoded data removed]",
      "text/plain": [
       "<Figure size 432x288 with 1 Axes>"
      ]
     },
     "metadata": {
      "needs_background": "light"
     },
     "output_type": "display_data"
    }
   ],
   "source": [
    "plt.figure()\n",
    "plt.scatter(x,np.abs(mean_delta_u_norm))"
   ]
  }
 ],
 "metadata": {
  "kernelspec": {
   "display_name": "Python 3.7.1 64-bit ('pytorch': conda)",
   "language": "python",
   "name": "python37164bitpytorchconda9031861d64394148aaffe9b20e167958"
  },
  "language_info": {
   "codemirror_mode": {
    "name": "ipython",
    "version": 3
   },
   "file_extension": ".py",
   "mimetype": "text/x-python",
   "name": "python",
   "nbconvert_exporter": "python",
   "pygments_lexer": "ipython3",
   "version": "3.7.1"
  }
 },
 "nbformat": 4,
 "nbformat_minor": 2
}
